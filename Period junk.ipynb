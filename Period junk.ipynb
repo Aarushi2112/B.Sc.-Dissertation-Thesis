{
 "cells": [
  {
   "cell_type": "code",
   "execution_count": 21,
   "id": "0097f9ab",
   "metadata": {},
   "outputs": [
    {
     "data": {
      "text/html": [
       "<div>\n",
       "<style scoped>\n",
       "    .dataframe tbody tr th:only-of-type {\n",
       "        vertical-align: middle;\n",
       "    }\n",
       "\n",
       "    .dataframe tbody tr th {\n",
       "        vertical-align: top;\n",
       "    }\n",
       "\n",
       "    .dataframe thead th {\n",
       "        text-align: right;\n",
       "    }\n",
       "</style>\n",
       "<table border=\"1\" class=\"dataframe\">\n",
       "  <thead>\n",
       "    <tr style=\"text-align: right;\">\n",
       "      <th></th>\n",
       "      <th>Period</th>\n",
       "      <th>Periods</th>\n",
       "    </tr>\n",
       "  </thead>\n",
       "  <tbody>\n",
       "    <tr>\n",
       "      <th>0</th>\n",
       "      <td>0.183000</td>\n",
       "      <td>11.284</td>\n",
       "    </tr>\n",
       "    <tr>\n",
       "      <th>1</th>\n",
       "      <td>0.235000</td>\n",
       "      <td>11.960</td>\n",
       "    </tr>\n",
       "    <tr>\n",
       "      <th>2</th>\n",
       "      <td>0.293651</td>\n",
       "      <td>12.280</td>\n",
       "    </tr>\n",
       "    <tr>\n",
       "      <th>3</th>\n",
       "      <td>0.341000</td>\n",
       "      <td>16.859</td>\n",
       "    </tr>\n",
       "    <tr>\n",
       "      <th>4</th>\n",
       "      <td>0.365000</td>\n",
       "      <td>17.408</td>\n",
       "    </tr>\n",
       "  </tbody>\n",
       "</table>\n",
       "</div>"
      ],
      "text/plain": [
       "     Period  Periods\n",
       "0  0.183000   11.284\n",
       "1  0.235000   11.960\n",
       "2  0.293651   12.280\n",
       "3  0.341000   16.859\n",
       "4  0.365000   17.408"
      ]
     },
     "execution_count": 21,
     "metadata": {},
     "output_type": "execute_result"
    }
   ],
   "source": [
    "import pandas as pb\n",
    "x=pb.read_csv('Period_junk_jyi.csv')\n",
    "x.head()"
   ]
  },
  {
   "cell_type": "code",
   "execution_count": 23,
   "id": "512f6ed9",
   "metadata": {},
   "outputs": [
    {
     "name": "stdout",
     "output_type": "stream",
     "text": [
      "['sans-serif']\n",
      "['Helvetica']\n"
     ]
    },
    {
     "data": {
      "image/png": "[encoded data removed]",
      "text/plain": [
       "<Figure size 1080x504 with 2 Axes>"
      ]
     },
     "metadata": {
      "needs_background": "light"
     },
     "output_type": "display_data"
    }
   ],
   "source": [
    "import seaborn as sns\n",
    "import numpy as np\n",
    "import matplotlib.ticker as plticker\n",
    "\n",
    "import matplotlib.pyplot as plt\n",
    "plt.figure(figsize=(15,7))\n",
    "plt.rcParams.update({'font.size':22})\n",
    "plt.rcParams.update({'font.sans-serif':'Helvetica'})\n",
    "print(plt.rcParams['font.family'])\n",
    "print(plt.rcParams['font.sans-serif'])\n",
    "plt.suptitle('Junk (n=105)',fontsize=30)\n",
    "\n",
    "\n",
    "\n",
    "plt.subplot(1,2,1)\n",
    "sns.histplot(x='Period',data=x,bins=10)\n",
    "plt.ylabel(\"Count\", size=28)\n",
    "plt.xlabel(\"Period (<10 days)\", size=28)\n",
    "ax=plt.gca()\n",
    "ax.margins(x=0)\n",
    "loc = plticker.MultipleLocator(base=1) # this locator puts ticks at regular intervals\n",
    "ax.xaxis.set_major_locator(loc)\n",
    "ax.set_ylim([0,27])\n",
    "ax.set_xlim([0,10])\n",
    "#plt.xlim(right=1)\n",
    "\n",
    "\n",
    "\n",
    "\n",
    "plt.rcParams.update({'font.size':22})\n",
    "plt.subplot(1,2,2)\n",
    "sns.histplot(x='Periods',data=x,bins=10)\n",
    "plt.ylabel(\"Count\", size=28)\n",
    "plt.xlabel(\"Period (>10 days)\", size=28)\n",
    "ax=plt.gca()\n",
    "loc = plticker.MultipleLocator(base=50) # this locator puts ticks at regular intervals\n",
    "ax.xaxis.set_major_locator(loc)\n",
    "ax.set_xlim([10,300])\n",
    "#ax.set_xlim([1,70])\n",
    "#x_ticks = ax.xaxis.get_major_ticks()\n",
    "#x_ticks[0].label1.set_visible(False)\n",
    "ax.margins(x=0)\n",
    "\n",
    "plt.savefig('my_plot.png')"
   ]
  },
  {
   "cell_type": "code",
   "execution_count": null,
   "id": "ec8777c6",
   "metadata": {},
   "outputs": [],
   "source": []
  },
  {
   "cell_type": "code",
   "execution_count": null,
   "id": "f942904b",
   "metadata": {},
   "outputs": [],
   "source": []
  }
 ],
 "metadata": {
  "kernelspec": {
   "display_name": "Python 3",
   "language": "python",
   "name": "python3"
  },
  "language_info": {
   "codemirror_mode": {
    "name": "ipython",
    "version": 3
   },
   "file_extension": ".py",
   "mimetype": "text/x-python",
   "name": "python",
   "nbconvert_exporter": "python",
   "pygments_lexer": "ipython3",
   "version": "3.8.12"
  }
 },
 "nbformat": 4,
 "nbformat_minor": 5
}
